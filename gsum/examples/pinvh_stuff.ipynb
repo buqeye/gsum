{
 "cells": [
  {
   "cell_type": "code",
   "execution_count": 110,
   "metadata": {},
   "outputs": [],
   "source": [
    "from numpy.core import (\n",
    "    array, asarray, zeros, empty, empty_like, intc, single, double,\n",
    "    csingle, cdouble, inexact, complexfloating, newaxis, all, Inf, dot,\n",
    "    add, multiply, sqrt, fastCopyAndTranspose, sum, isfinite,\n",
    "    finfo, errstate, geterrobj, moveaxis, amin, amax, product, abs,\n",
    "    atleast_2d, intp, asanyarray, object_, matmul,\n",
    "    swapaxes, divide, count_nonzero, isnan\n",
    ")\n",
    "from numpy.core.multiarray import normalize_axis_index\n",
    "from numpy.lib.twodim_base import triu, eye\n",
    "from numpy.linalg import lapack_lite, _umath_linalg, eigh, svd, LinAlgError\n",
    "\n",
    "import numpy as np\n",
    "import scipy as sp\n",
    "import scipy.linalg"
   ]
  },
  {
   "cell_type": "code",
   "execution_count": 23,
   "metadata": {},
   "outputs": [],
   "source": [
    "def _isEmpty2d(arr):\n",
    "    # check size first for efficiency\n",
    "    return arr.size == 0 and product(arr.shape[-2:]) == 0\n",
    "\n",
    "def _makearray(a):\n",
    "    new = asarray(a)\n",
    "    wrap = getattr(a, \"__array_prepare__\", new.__array_wrap__)\n",
    "    return new, wrap\n",
    "\n",
    "def transpose(a):\n",
    "    \"\"\"\n",
    "    Transpose each matrix in a stack of matrices.\n",
    "    Unlike np.transpose, this only swaps the last two axes, rather than all of\n",
    "    them\n",
    "    Parameters\n",
    "    ----------\n",
    "    a : (...,M,N) array_like\n",
    "    Returns\n",
    "    -------\n",
    "    aT : (...,N,M) ndarray\n",
    "    \"\"\"\n",
    "    return swapaxes(a, -1, -2)"
   ]
  },
  {
   "cell_type": "code",
   "execution_count": 85,
   "metadata": {},
   "outputs": [
    {
     "name": "stdout",
     "output_type": "stream",
     "text": [
      "[]\n"
     ]
    },
    {
     "data": {
      "text/plain": [
       "False"
      ]
     },
     "execution_count": 85,
     "metadata": {},
     "output_type": "execute_result"
    }
   ],
   "source": [
    "uhh = np.empty((0, 1, 1))\n",
    "print(uhh)\n",
    "_isEmpty2d(uhh)"
   ]
  },
  {
   "cell_type": "code",
   "execution_count": 111,
   "metadata": {},
   "outputs": [],
   "source": [
    "def pinv(a, rcond=1e-15 ):\n",
    "    \"\"\"\n",
    "    Compute the (Moore-Penrose) pseudo-inverse of a matrix.\n",
    "    Calculate the generalized inverse of a matrix using its\n",
    "    singular-value decomposition (SVD) and including all\n",
    "    *large* singular values.\n",
    "    .. versionchanged:: 1.14\n",
    "       Can now operate on stacks of matrices\n",
    "    Parameters\n",
    "    ----------\n",
    "    a : (..., M, N) array_like\n",
    "        Matrix or stack of matrices to be pseudo-inverted.\n",
    "    rcond : (...) array_like of float\n",
    "        Cutoff for small singular values.\n",
    "        Singular values smaller (in modulus) than\n",
    "        `rcond` * largest_singular_value (again, in modulus)\n",
    "        are set to zero. Broadcasts against the stack of matrices\n",
    "    Returns\n",
    "    -------\n",
    "    B : (..., N, M) ndarray\n",
    "        The pseudo-inverse of `a`. If `a` is a `matrix` instance, then so\n",
    "        is `B`.\n",
    "    Raises\n",
    "    ------\n",
    "    LinAlgError\n",
    "        If the SVD computation does not converge.\n",
    "    Notes\n",
    "    -----\n",
    "    The pseudo-inverse of a matrix A, denoted :math:`A^+`, is\n",
    "    defined as: \"the matrix that 'solves' [the least-squares problem]\n",
    "    :math:`Ax = b`,\" i.e., if :math:`\\\\bar{x}` is said solution, then\n",
    "    :math:`A^+` is that matrix such that :math:`\\\\bar{x} = A^+b`.\n",
    "    It can be shown that if :math:`Q_1 \\\\Sigma Q_2^T = A` is the singular\n",
    "    value decomposition of A, then\n",
    "    :math:`A^+ = Q_2 \\\\Sigma^+ Q_1^T`, where :math:`Q_{1,2}` are\n",
    "    orthogonal matrices, :math:`\\\\Sigma` is a diagonal matrix consisting\n",
    "    of A's so-called singular values, (followed, typically, by\n",
    "    zeros), and then :math:`\\\\Sigma^+` is simply the diagonal matrix\n",
    "    consisting of the reciprocals of A's singular values\n",
    "    (again, followed by zeros). [1]_\n",
    "    References\n",
    "    ----------\n",
    "    .. [1] G. Strang, *Linear Algebra and Its Applications*, 2nd Ed., Orlando,\n",
    "           FL, Academic Press, Inc., 1980, pp. 139-142.\n",
    "    Examples\n",
    "    --------\n",
    "    The following example checks that ``a * a+ * a == a`` and\n",
    "    ``a+ * a * a+ == a+``:\n",
    "    >>> a = np.random.randn(9, 6)\n",
    "    >>> B = np.linalg.pinv(a)\n",
    "    >>> np.allclose(a, np.dot(a, np.dot(B, a)))\n",
    "    True\n",
    "    >>> np.allclose(B, np.dot(B, np.dot(a, B)))\n",
    "    True\n",
    "    \"\"\"\n",
    "    a, wrap = _makearray(a)\n",
    "    rcond = asarray(rcond)\n",
    "    if _isEmpty2d(a):\n",
    "        m, n = a.shape[-2:]\n",
    "        res = empty(a.shape[:-2] + (n, m), dtype=a.dtype)\n",
    "        return wrap(res)\n",
    "    a = a.conjugate()\n",
    "    u, s, vt = svd(a, full_matrices=False)\n",
    "\n",
    "    # discard small singular values\n",
    "    cutoff = rcond[..., newaxis] * amax(s, axis=-1, keepdims=True)\n",
    "    large = s > cutoff\n",
    "    s = divide(1, s, where=large, out=s)\n",
    "    s[~large] = 0\n",
    "\n",
    "    res = matmul(transpose(vt), multiply(s[..., newaxis], transpose(u)))\n",
    "    return wrap(res)\n",
    "\n",
    "\n",
    "def pinvh(a, rcond=1e-15):\n",
    "    \"\"\"\n",
    "    Compute the (Moore-Penrose) pseudo-inverse of a Hermitian matrix.\n",
    "    Calculate the generalized inverse of a matrix using its\n",
    "    eigenvalue decomposition and including all\n",
    "    *large* singular values.\n",
    "\n",
    "    Parameters\n",
    "    ----------\n",
    "    a : (..., N, N) array_like\n",
    "        Matrix or stack of Hermitian matrices to be pseudo-inverted.\n",
    "    rcond : (...) array_like of float\n",
    "        Cutoff for small singular values.\n",
    "        Singular values smaller (in modulus) than\n",
    "        `rcond` * largest_singular_value (again, in modulus)\n",
    "        are set to zero. Broadcasts against the stack of matrices.\n",
    "    Returns\n",
    "    -------\n",
    "    B : (..., N, N) ndarray\n",
    "        The pseudo-inverse of `a`. If `a` is a `matrix` instance, then so\n",
    "        is `B`.\n",
    "    Raises\n",
    "    ------\n",
    "    LinAlgError\n",
    "        If the eigenvalue computation does not converge.\n",
    "    Notes\n",
    "    -----\n",
    "    The pseudo-inverse of a matrix A, denoted :math:`A^+`, is\n",
    "    defined as: \"the matrix that 'solves' [the least-squares problem]\n",
    "    :math:`Ax = b`,\" i.e., if :math:`\\\\bar{x}` is said solution, then\n",
    "    :math:`A^+` is that matrix such that :math:`\\\\bar{x} = A^+b`.\n",
    "    It can be shown that if :math:`Q_1 \\\\Sigma Q_2^T = A` is the singular\n",
    "    value decomposition of A, then\n",
    "    :math:`A^+ = Q_2 \\\\Sigma^+ Q_1^T`, where :math:`Q_{1,2}` are\n",
    "    orthogonal matrices, :math:`\\\\Sigma` is a diagonal matrix consisting\n",
    "    of A's so-called singular values, (followed, typically, by\n",
    "    zeros), and then :math:`\\\\Sigma^+` is simply the diagonal matrix\n",
    "    consisting of the reciprocals of A's singular values\n",
    "    (again, followed by zeros). [1]_\n",
    "    References\n",
    "    ----------\n",
    "    .. [1] G. Strang, *Linear Algebra and Its Applications*, 2nd Ed., Orlando,\n",
    "           FL, Academic Press, Inc., 1980, pp. 139-142.\n",
    "    Examples\n",
    "    --------\n",
    "    The following example checks that ``a * a+ * a == a`` and\n",
    "    ``a+ * a * a+ == a+``:\n",
    "    >>> a = np.random.randn(6, 6)\n",
    "    >>> a = a @ a.T  # To symmetrize it\n",
    "    >>> B = np.linalg.pinvh(a)\n",
    "    >>> np.allclose(a, np.matmul(a, np.matmul(B, a)))\n",
    "    True\n",
    "    >>> np.allclose(B, np.matmul(B, np.matmul(a, B)))\n",
    "    True\n",
    "    \"\"\"\n",
    "    a, wrap = _makearray(a)\n",
    "    rcond = asarray(rcond)\n",
    "    if _isEmpty2d(a):\n",
    "        m, n = a.shape[-2:]\n",
    "        if m != n:\n",
    "            raise LinAlgError('Last 2 dimensions of the array must be square')\n",
    "        res = empty(a.shape[:-2] + (n, m), dtype=a.dtype)\n",
    "        return wrap(res)\n",
    "    s, u = eigh(a, UPLO='L')\n",
    "\n",
    "    # discard small singular values\n",
    "    cutoff = rcond[..., newaxis] * amax(s, axis=-1, keepdims=True)\n",
    "    large = s > cutoff\n",
    "    s = divide(1, s, where=large, out=s)\n",
    "    s[~large] = 0\n",
    "\n",
    "    res = matmul(u, multiply(s[..., newaxis], transpose(np.conjugate(u))))\n",
    "    return wrap(res)\n"
   ]
  },
  {
   "cell_type": "code",
   "execution_count": 115,
   "metadata": {},
   "outputs": [
    {
     "name": "stdout",
     "output_type": "stream",
     "text": [
      "[]\n"
     ]
    }
   ],
   "source": [
    "# a = np.random.randn(60, 60) + 1j * np.random.randn(60, 60)\n",
    "# a = a @ transpose(np.conjugate(a))\n",
    "a = np.empty((5, 0, 0))\n",
    "print(a)\n",
    "# print(np.allclose(transpose(np.conjugate(a)), a))"
   ]
  },
  {
   "cell_type": "code",
   "execution_count": 116,
   "metadata": {},
   "outputs": [
    {
     "name": "stdout",
     "output_type": "stream",
     "text": [
      "[]\n",
      "True\n"
     ]
    }
   ],
   "source": [
    "# a = np.random.randn(9, 6)\n",
    "B = np.linalg.pinv(a)\n",
    "print(B)\n",
    "print(np.allclose(a, a @ B @ a))"
   ]
  },
  {
   "cell_type": "code",
   "execution_count": 118,
   "metadata": {},
   "outputs": [
    {
     "name": "stdout",
     "output_type": "stream",
     "text": [
      "[] (5, 0, 0)\n",
      "True\n",
      "True\n"
     ]
    }
   ],
   "source": [
    "# a = a @ transpose(a)\n",
    "B = pinvh(a)\n",
    "print(B, B.shape)\n",
    "print(np.allclose(a, a @ B @ a))\n",
    "print(np.allclose(B, np.matmul(B, np.matmul(a, B))))"
   ]
  },
  {
   "cell_type": "code",
   "execution_count": 53,
   "metadata": {},
   "outputs": [
    {
     "name": "stdout",
     "output_type": "stream",
     "text": [
      "True\n",
      "True\n",
      "725 µs ± 4.5 µs per loop (mean ± std. dev. of 7 runs, 1000 loops each)\n",
      "404 µs ± 7.08 µs per loop (mean ± std. dev. of 7 runs, 1000 loops each)\n",
      "514 µs ± 13.3 µs per loop (mean ± std. dev. of 7 runs, 1000 loops each)\n"
     ]
    }
   ],
   "source": [
    "print(np.allclose(pinvh(a), np.linalg.pinv(a)))\n",
    "# print(np.allclose(np.array([sp.linalg.pinvh(aa) for aa in a]), np.linalg.pinv(a)))\n",
    "print(np.allclose(sp.linalg.pinvh(a), np.linalg.pinv(a)))\n",
    "\n",
    "%timeit np.linalg.pinv(a)\n",
    "%timeit pinvh(a)\n",
    "# %timeit np.array([sp.linalg.pinvh(aa) for aa in a])\n",
    "%timeit sp.linalg.pinvh(a, check_finite=False)"
   ]
  },
  {
   "cell_type": "code",
   "execution_count": 7,
   "metadata": {},
   "outputs": [
    {
     "data": {
      "text/plain": [
       "True"
      ]
     },
     "execution_count": 7,
     "metadata": {},
     "output_type": "execute_result"
    }
   ],
   "source": [
    "np.allclose(transpose(np.conjugate(a)), a)\n",
    "\n",
    "\n",
    "\n"
   ]
  },
  {
   "cell_type": "code",
   "execution_count": null,
   "metadata": {},
   "outputs": [],
   "source": [
    "class PinvhCases(HermitianTestCase,\n",
    "                 HermitianGeneralizedTestCase):\n",
    "\n",
    "    def do(self, a, b, tags):\n",
    "        a_ginv = linalg.pinvh(a)\n",
    "        # `a @ a_ginv == I` does not hold if a is singular\n",
    "        dot = matmul\n",
    "        assert_almost_equal(dot(dot(a, a_ginv), a), a, single_decimal=5, double_decimal=11)\n",
    "        assert_(consistent_subclass(a_ginv, a))\n",
    "\n",
    "\n",
    "class TestPinvh(PinvhCases):\n",
    "    pass"
   ]
  }
 ],
 "metadata": {
  "kernelspec": {
   "display_name": "Python 3.6",
   "language": "python",
   "name": "py36"
  },
  "language_info": {
   "codemirror_mode": {
    "name": "ipython",
    "version": 3
   },
   "file_extension": ".py",
   "mimetype": "text/x-python",
   "name": "python",
   "nbconvert_exporter": "python",
   "pygments_lexer": "ipython3",
   "version": "3.6.7"
  }
 },
 "nbformat": 4,
 "nbformat_minor": 2
}
