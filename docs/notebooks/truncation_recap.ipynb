{
 "cells": [
  {
   "cell_type": "code",
   "execution_count": 1,
   "metadata": {
    "pycharm": {
     "is_executing": true
    }
   },
   "outputs": [],
   "source": [
    "%load_ext autoreload\n",
    "%autoreload 2\n",
    "\n",
    "import gsum as gm\n",
    "import matplotlib as mpl\n",
    "import matplotlib.pyplot as plt\n",
    "import numpy as np\n",
    "import scipy.stats as stats\n",
    "import os\n",
    "import h5py\n",
    "from IPython.display import Image\n",
    "\n",
    "%matplotlib inline"
   ]
  },
  {
   "cell_type": "code",
   "execution_count": 2,
   "metadata": {
    "pycharm": {
     "is_executing": false
    }
   },
   "outputs": [],
   "source": [
    "mpl.rcParams['text.usetex'] = True\n",
    "WIDE_IMG_WIDTH = 800\n",
    "NARROW_IMG_WIDTH = 400"
   ]
  },
  {
   "cell_type": "markdown",
   "metadata": {
    "pycharm": {}
   },
   "source": [
    "# Bayesian truncation errors in chiral effective field theory: A Pointwise Approach\n",
    "\n",
    "Here we reproduce, using the improved truncation error model based on conjugate priors, some of the results in the following papers (with some notational changes)\n",
    "\n",
    "* [Furnstahl et al.](https://arxiv.org/abs/1506.01343), Quantifying Truncation Errors in Effective Field Theory\n",
    "* [Melendez et al.](https://arxiv.org/abs/1704.03308), Bayesian truncation errors in chiral effective field theory: Nucleon-nucleon observables\n",
    "\n",
    "In these papers, the convergence pattern of nucleon-nucleon scattering observables, including the total and differential cross sections and a set of spin scattering observables, were studied to infer the effective field theory (EFT) truncation error. Given the $k$ lowest order EFTs, a sequence of observable calculations $\\\\{y_0, ..., y_k\\\\}$ can be computed for a generic observable $y$. It is assumed in the above papers that one can write the sum of all contributions as\n",
    "\\begin{align}\n",
    "y = y_{\\mathrm{ref}}\\sum_{n=0}^\\infty c_n Q^n\n",
    "\\end{align}\n",
    "for iid observable coefficients $c_n$. Hence, the $k$ lowest orders can be conditioned upon to estimate the remaining higher orders, and the full summation.\n",
    "The expansion parameter $Q$ is considered a ratio of low- and high-energy scales, with the low energy scale a combination of the relative scattering momentum $p$ and pion mass $m_\\pi$, and the high energy scale is $\\Lambda_b$, also known as the breakdown scale.\n",
    "The specific parameterization is\n",
    "\\begin{align}\n",
    "Q = \\frac{m_\\pi^n + p^n}{m_\\pi^{n-1} + p^{n-1}} \\frac{1}{\\Lambda_b}\n",
    "\\end{align}\n",
    "with $n=8$ used in Melendez et al.\n",
    "\n",
    "The hierarchical model from the above papers considered the following prior sets, and Melendez et al. focused on set C with $\\bar c_< = 0.25$ and $\\bar c_> = 10$.\n",
    "\n",
    "\n",
    "\n",
    "\n",
    "<!--- | Set | $pr(c_n | \\bar c)$ | $pr(\\bar c)$ |\n",
    "| :---: | :------------------: | :------------: |\n",
    "| A   | $\\frac{1}{2\\bar c}\\theta(\\bar c - |c_n|)$ |  $\\frac{1}{\\bar c\\ln\\bar c_> /\\bar c_<}\\theta(\\bar c - \\bar c_<) \\theta(\\bar c_> - \\bar c)$ |\n",
    "| B   | $\\frac{1}{2\\bar c}\\theta(\\bar c - |c_n|)$ | $\\frac{1}{\\sqrt{2\\pi}\\bar c \\sigma} e^{-(\\ln \\bar c)^2/2\\sigma^2}$ |\n",
    "| C  | $\\frac{1}{\\sqrt{2\\pi}\\bar c} e^{-c_n^2/2\\bar c}$ | $\\frac{1}{\\bar c\\ln\\bar c_> /\\bar c_<}\\theta(\\bar c - \\bar c_<) \\theta(\\bar c_> - \\bar c)$ | --->\n",
    "\n",
    "\n",
    "\n",
    "\\begin{array}{ccc}\n",
    "\\hline\n",
    "\\mathrm{Set} & pr(c_n | \\bar c) & pr(\\bar c) \\\\ \\hline\n",
    "A & \\frac{1}{2\\bar c}\\theta(\\bar c - |c_n|) &  \\frac{1}{\\bar c\\ln\\bar c_> /\\bar c_<}\\theta(\\bar c - \\bar c_<) \\theta(\\bar c_> - \\bar c) \\\\\n",
    "B & \\frac{1}{2\\bar c}\\theta(\\bar c - |c_n|) &  \\frac{1}{\\sqrt{2\\pi}\\bar c \\sigma} e^{-(\\ln \\bar c)^2/2\\sigma^2} \\\\\n",
    "C & \\frac{1}{\\sqrt{2\\pi}\\bar c} e^{-c_n^2/2\\bar c} &  \\frac{1}{\\bar c\\ln\\bar c_> /\\bar c_<}\\theta(\\bar c - \\bar c_<) \\theta(\\bar c_> - \\bar c) \\\\\n",
    "\\hline\n",
    "\\end{array}\n",
    "\n",
    "This package instead employs a conjugate prior set, where the $c_n$ are Gaussian and an inverse $\\chi^2$ is placed on $\\bar c^2$,\n",
    "\\begin{align}\n",
    "\\bar c^2 \\sim \\chi^{-2}(\\nu_0, \\tau_0^2)\n",
    "\\end{align}\n",
    "where $\\nu_0$ and $\\tau_0$ are the prior degrees of freedom and scale parameters, respectively.\n",
    "The inverse $\\chi^2$ density is given by\n",
    "\\begin{align}\n",
    "\\chi^{-2}(z; \\nu, \\tau^2) = \\frac{(\\nu\\tau^2/2)^{\\nu/2}}{\\Gamma(\\nu/2)} z^{-\\nu/2-1} e^{-\\frac{\\nu\\tau^2}{2z}}\n",
    "\\end{align}\n",
    "Here we compare the results of the very convenient conjugate formulation to the prior published results.\n"
   ]
  },
  {
   "cell_type": "markdown",
   "metadata": {
    "pycharm": {}
   },
   "source": [
    "## Proof of Concept\n",
    "\n",
    "Many proof of concept tests were performed in Furnstahl et al.\n",
    "Here we reproduce some of those tests with this package.\n",
    "Since setting $\\nu = 0$ is equivalent to prior set $C$ with $\\bar c_< = 1/\\bar c_> = 0$, the results should be identical in this case.\n",
    "\n",
    "The basic steps for using this uncorrelated model are\n",
    "\n",
    "* Define a ``TruncationPointwise`` model object with hyperparameters $\\nu$ and $\\tau$\n",
    "* Use the ``fit`` method to input the order-by-order predictions, or partial sums, ``partials`` of the observable, with the expansion parameter ``ratio``, and reference scale ``ref`` used to extract the coefficients of the series\n",
    "* Call another method, such as ``predictive`` or ``predict`` to get posteriors or degree of belief intervals for the truncation error. Below we use ``predictive``, which returns a frozen scipy $t$ distribution object for the truncation error. Then one can use standard methods (see the scipy.stats documentation) to compute its pdf, credible intervals, etc."
   ]
  },
  {
   "cell_type": "code",
   "execution_count": 3,
   "metadata": {
    "pycharm": {
     "is_executing": false
    },
    "scrolled": false
   },
   "outputs": [
    {
     "data": {
      "image/png": "[encoded data removed]",
      "text/plain": [
       "<Figure size 864x216 with 3 Axes>"
      ]
     },
     "metadata": {
      "needs_background": "light"
     },
     "output_type": "display_data"
    }
   ],
   "source": [
    "df0 = 0\n",
    "Q = 0.33\n",
    "\n",
    "# Must be 2d array, with orders spanning the last axis (columns)\n",
    "coeffs = np.array(\n",
    "    [[1.0, 1.0, 1.0],  # Set 1, orders 0, 1, 2\n",
    "     [1.0, 0.5, 0.1],  # Set 2, orders 0, 1, 2\n",
    "     [1.0, 0.1, 0.1]   # Set 3, orders 0, 1, 2\n",
    "    ]\n",
    ")\n",
    "\n",
    "# The truncation model accepts *partial sums*,\n",
    "# i.e., order-by-order predictions y_n, not the coefficients!\n",
    "y1 = gm.partials(coeffs, ratio=Q)\n",
    "\n",
    "# Set up a scale-invariant truncation object\n",
    "test1 = gm.TruncationPointwise(df=df0)\n",
    "\n",
    "# Fit the model to data. Hyperparameters get updated here\n",
    "test1.fit(y=y1, ratio=Q)\n",
    "\n",
    "# Get a scipy.stats.t distribution object for the truncation error\n",
    "dist = test1.dist_\n",
    "\n",
    "\n",
    "# Plot the results\n",
    "delta_k = np.linspace(-0.15, 0.15, 100)  # Differences from the true y\n",
    "pdfs = dist.pdf(delta_k[:, None, None] + y1)\n",
    "\n",
    "dob68 = lower68, upper68 = dist.interval(0.68)\n",
    "pdf_heights68 = dist.pdf(lower68)\n",
    "dob95 = lower95, upper95 = dist.interval(0.95)\n",
    "pdf_heights95 = dist.pdf(lower95)\n",
    "\n",
    "fig, axs = plt.subplots(1, len(coeffs), figsize=(12, 3))\n",
    "for i, ax in enumerate(axs.ravel()):\n",
    "    ax.plot(delta_k, pdfs[:, i, -1])\n",
    "\n",
    "    # Plot dob intervals as vertical lines\n",
    "    for dob in dob68-y1:\n",
    "        ax.vlines(dob[i, -1], 0, pdf_heights68[i, -1], linestyle='-.', lw=0.5)\n",
    "    for dob in dob95-y1:\n",
    "        ax.vlines(dob[i, -1], 0, pdf_heights95[i, -1], linestyle='--', lw=0.5)\n",
    "\n",
    "    # Format the plot as in Furnstahl et al. for comparison\n",
    "    ax.set_title(r\"pr($\\Delta_2 \\,\\vert\\, c=[{},\\, {},\\, {}]$)\".format(*coeffs[i]))\n",
    "    ax.set_xlabel(r\"$\\Delta_2$\")\n",
    "    ax.set_ylim([0, 17])\n",
    "    ax.set_xlim([-0.13, 0.13])\n",
    "    ax.yaxis.set_major_locator(mpl.ticker.FixedLocator(np.arange(0, 18, 2)))\n",
    "    ax.yaxis.set_minor_locator(mpl.ticker.FixedLocator(np.arange(1, 19, 2)))\n",
    "    ax.xaxis.set_minor_locator(mpl.ticker.FixedLocator(np.linspace(-0.15, 0.15, 31)))\n",
    "    # ax.grid(axis='y')\n"
   ]
  },
  {
   "cell_type": "markdown",
   "metadata": {
    "pycharm": {}
   },
   "source": [
    "Compare the above figure with the blue curves from Fig. 4 in Furnstahl et al., reproduced below:"
   ]
  },
  {
   "cell_type": "code",
   "execution_count": 4,
   "metadata": {},
   "outputs": [
    {
     "data": {
      "image/jpeg": "[encoded data removed]",
      "text/plain": [
       "<IPython.core.display.Image object>"
      ]
     },
     "execution_count": 4,
     "metadata": {
      "image/jpeg": {
       "width": 800
      }
     },
     "output_type": "execute_result"
    }
   ],
   "source": [
    "Image('../images/Furnstahl_fig4.jpg', width=WIDE_IMG_WIDTH)"
   ]
  },
  {
   "cell_type": "markdown",
   "metadata": {
    "pycharm": {}
   },
   "source": [
    "The original paper states that Fig. 4 uses the \"leading-omitted-term approximation\" to the truncation error, but this is a misprint. Thus, the curves are indeed identical. This package allows any $\\nu$ and $\\tau^2$ to be chosen instead, each of which allow pdfs to be computed efficiently without any manual integration."
   ]
  },
  {
   "cell_type": "markdown",
   "metadata": {
    "pycharm": {}
   },
   "source": [
    "## NN Scattering Observables\n",
    "\n",
    "Although the total cross section was covered in Furnstahl et al., it and other observables were more extensively studied in Melendez et al.\n",
    "Here we will reproduce some of the key figures from Melendez et al. with a slightly altered prior on $\\bar c$."
   ]
  },
  {
   "cell_type": "markdown",
   "metadata": {
    "pycharm": {}
   },
   "source": [
    "### Choose Hyperparameters\n",
    "\n",
    "First let's figure out the hyperparameters of the inverse $\\chi^2$ distribution that best reproduce the \"Set C\" prior with $\\bar c_> = 10$ and $\\bar c_< = 0.25$, which was the most extensively used prior set of Melendez et al.\n",
    "Scipy has an inverse gamma distribution, which is equivalent to the inverse $\\chi^2$ distribution, with hyperparameters defined by\n",
    "\\begin{align}\n",
    "    a & = \\frac{\\nu}{2} \\\\\n",
    "    b & = \\frac{\\nu \\tau^2}{2}\n",
    "\\end{align}"
   ]
  },
  {
   "cell_type": "code",
   "execution_count": 5,
   "metadata": {
    "inputHidden": false,
    "outputHidden": false,
    "pycharm": {
     "is_executing": false
    }
   },
   "outputs": [
    {
     "data": {
      "image/png": "[encoded data removed]",
      "text/plain": [
       "<Figure size 432x288 with 1 Axes>"
      ]
     },
     "metadata": {
      "needs_background": "light"
     },
     "output_type": "display_data"
    }
   ],
   "source": [
    "df_test = 0.6\n",
    "tau_test = 0.8\n",
    "\n",
    "a_test = df_test/2.\n",
    "b_test = df_test * tau_test**2 / 2\n",
    "ig = stats.invgamma(a=a_test, scale=b_test)\n",
    "\n",
    "\n",
    "def cbar_sq_prior_melendez_etal(x, lower, upper):\n",
    "    # pr(cbar**2) for set C\n",
    "    return np.where((lower <= x) & (x <= upper), 1 / (np.log(upper / lower) * x), 0.)\n",
    "\n",
    "cbarsq = np.linspace(0.1**2, 1, 1000)\n",
    "prior_vals = cbar_sq_prior_melendez_etal(cbarsq, 0.25**2, 10**2)\n",
    "\n",
    "ax = plt.gca()\n",
    "ax.plot(cbarsq, ig.pdf(cbarsq), label=r'$\\chi^{-2}$')\n",
    "ax.plot(cbarsq, prior_vals, label='Set C')\n",
    "ax.set_xlabel(r\"$\\bar c^2$\")\n",
    "ax.set_ylabel(r\"$pr(\\bar c^2)$\")\n",
    "ax.legend();"
   ]
  },
  {
   "cell_type": "markdown",
   "metadata": {
    "pycharm": {}
   },
   "source": [
    "It looks like $\\nu \\approx 0.6$ and $\\tau \\approx 0.8$ work nicely! Let's see if we can reproduce old results now."
   ]
  },
  {
   "cell_type": "markdown",
   "metadata": {
    "pycharm": {}
   },
   "source": [
    "### Setup\n",
    "\n",
    "Observables are considered at many values of the kinematic parameters $E_{\\mathrm{lab}}$ and $\\theta$.\n",
    "The expansion parameter is assumed to vary in energy so we must provide a callable function rather than a constant as before.\n",
    "Thus we will first define the `ratio` function that will be used as the expansion parameter."
   ]
  },
  {
   "cell_type": "code",
   "execution_count": 6,
   "metadata": {
    "pycharm": {}
   },
   "outputs": [],
   "source": [
    "# Constants: proton/neutron masses and hbar\n",
    "m_p = 938.27208  # MeV/c^2\n",
    "m_n = 939.56541  # MeV/c^2\n",
    "hbarc = 197.33  # Mev-fm\n",
    "\n",
    "\n",
    "def E_to_p(E_lab, interaction):\n",
    "    \"\"\"Return p in MeV.\n",
    "\n",
    "    Parameters\n",
    "    ----------\n",
    "    energy      = float\n",
    "                  lab energy given in MeV.\n",
    "    interaction = str\n",
    "                  {\"pp\", \"nn\", \"np\"}\n",
    "    \"\"\"\n",
    "\n",
    "    if interaction == \"pp\":\n",
    "        m1, m2 = m_p, m_p\n",
    "    if interaction == \"nn\":\n",
    "        m1, m2 = m_n, m_n\n",
    "    if interaction == \"np\":\n",
    "        m1, m2 = m_n, m_p\n",
    "    p_rel = np.sqrt(\n",
    "        E_lab * m2**2 * (E_lab + 2 * m1) /\n",
    "        ((m1 + m2)**2 + 2 * m2 * E_lab)\n",
    "        )\n",
    "    return p_rel\n",
    "\n",
    "\n",
    "def Q_approx(E, Lambda_b, interaction, single_expansion=False):\n",
    "    if single_expansion:\n",
    "        m_pi = 0\n",
    "    else:\n",
    "        m_pi = 138  # Set to 0 to just return p/Lambda_b\n",
    "    # Interpolate to smooth the transition from m_pi to p\n",
    "    n = 8\n",
    "    p = E_to_p(E, interaction)\n",
    "    q = (m_pi**n + p**n) / (m_pi**(n-1) + p**(n-1)) / Lambda_b\n",
    "    return q\n",
    "\n",
    "\n",
    "def ratio(X, Lambda_b):\n",
    "    '''Assume energies are in the first column of X'''\n",
    "    return Q_approx(X[:, 0], Lambda_b, interaction='np').ravel()"
   ]
  },
  {
   "cell_type": "markdown",
   "metadata": {
    "pycharm": {}
   },
   "source": [
    "Now import the relevant data for each observable from a precomputed hdf5 file (this requires the `h5py` package).\n",
    "Here we use Epelbaum, Krebs, and Meißner's $R=0.9$ fm potential up to N$^4$LO as the order-by-order predictions, and the pwa93 as experimental data."
   ]
  },
  {
   "cell_type": "code",
   "execution_count": 15,
   "metadata": {
    "pycharm": {}
   },
   "outputs": [
    {
     "ename": "AttributeError",
     "evalue": "module 'urllib.request' has no attribute 'geturl'",
     "output_type": "error",
     "traceback": [
      "\u001b[0;31m---------------------------------------------------------------------------\u001b[0m",
      "\u001b[0;31mAttributeError\u001b[0m                            Traceback (most recent call last)",
      "\u001b[0;32m<ipython-input-15-ed14977d75ee>\u001b[0m in \u001b[0;36m<module>\u001b[0;34m\u001b[0m\n\u001b[1;32m      5\u001b[0m \u001b[0mnn_url\u001b[0m \u001b[0;34m=\u001b[0m \u001b[0;34m'https://github.com/buqeye/buqeyebox/blob/master/nn_scattering/scattering_observables_EKM_R-0p9fm.h5?raw=true'\u001b[0m\u001b[0;34m\u001b[0m\u001b[0;34m\u001b[0m\u001b[0m\n\u001b[1;32m      6\u001b[0m \u001b[0;34m\u001b[0m\u001b[0m\n\u001b[0;32m----> 7\u001b[0;31m \u001b[0mr\u001b[0m \u001b[0;34m=\u001b[0m \u001b[0mrequest\u001b[0m\u001b[0;34m.\u001b[0m\u001b[0mgeturl\u001b[0m\u001b[0;34m(\u001b[0m\u001b[0mnn_url\u001b[0m\u001b[0;34m)\u001b[0m\u001b[0;34m\u001b[0m\u001b[0;34m\u001b[0m\u001b[0m\n\u001b[0m\u001b[1;32m      8\u001b[0m \u001b[0;31m# r = opener.open(req)\u001b[0m\u001b[0;34m\u001b[0m\u001b[0;34m\u001b[0m\u001b[0;34m\u001b[0m\u001b[0m\n\u001b[1;32m      9\u001b[0m \u001b[0mresult\u001b[0m \u001b[0;34m=\u001b[0m \u001b[0mr\u001b[0m\u001b[0;34m.\u001b[0m\u001b[0mread\u001b[0m\u001b[0;34m(\u001b[0m\u001b[0;34m)\u001b[0m\u001b[0;34m\u001b[0m\u001b[0;34m\u001b[0m\u001b[0m\n",
      "\u001b[0;31mAttributeError\u001b[0m: module 'urllib.request' has no attribute 'geturl'"
     ]
    }
   ],
   "source": [
    "nn_online_pot = 'pwa93'\n",
    "\n",
    "from urllib import request\n",
    "\n",
    "nn_url = 'https://github.com/buqeye/buqeyebox/blob/master/nn_scattering/scattering_observables_EKM_R-0p9fm.h5?raw=true'\n",
    "\n",
    "r = request.geturl(nn_url)\n",
    "# r = opener.open(req)\n",
    "result = r.read()\n",
    "\n",
    "print(result)\n",
    "\n",
    "# with open('my_file.h5', 'wb') as f:\n",
    "#     f.write(result)\n",
    "\n",
    "\n",
    "# with h5py.File(nn_url, 'r') as file:\n",
    "#     SGT = file['SGT'][:]\n",
    "#     DSG = file['DSG'][:]\n",
    "#     AY = file['PB'][:]\n",
    "#     A = file['A'][:]\n",
    "#     D = file['D'][:]\n",
    "#     AXX = file['AXX'][:]\n",
    "#     AYY = file['AYY'][:]\n",
    "#     q_cm = file['q_cm'][:]\n",
    "#     t_lab = file['t_lab'][:]\n",
    "#     degrees = file['degrees'][:]\n",
    "\n",
    "# q_cm *= hbarc\n",
    "\n",
    "# with h5py.File(os.path.expanduser('~/Desktop/NN-online-Observables.h5'), 'r') as file:\n",
    "#     SGT_nn_online = file[nn_online_pot + '/SGT'][:]\n",
    "#     DSG_nn_online = file[nn_online_pot + '/DSG'][:, :-1]\n",
    "#     AY_nn_online = file[nn_online_pot + '/PB'][:, :-1]\n",
    "#     A_nn_online = file[nn_online_pot + '/A'][:, :-1]\n",
    "#     D_nn_online = file[nn_online_pot + '/D'][:, :-1]\n",
    "#     AXX_nn_online = file[nn_online_pot + '/AXX'][:, :-1]\n",
    "#     AYY_nn_online = file[nn_online_pot + '/AYY'][:, :-1]"
   ]
  },
  {
   "cell_type": "code",
   "execution_count": null,
   "metadata": {
    "pycharm": {}
   },
   "outputs": [],
   "source": [
    "SGT.shape"
   ]
  },
  {
   "cell_type": "markdown",
   "metadata": {
    "pycharm": {}
   },
   "source": [
    "The reference scale $X_{\\mathrm{ref}}$ was chosen to be $X_0$ for the total and differential cross section, but it was argued that $X_{\\mathrm{ref}} = 1$ was sufficient for the spin observables. Here we set up interpolators that could be used with any energy or $\\theta$ value."
   ]
  },
  {
   "cell_type": "code",
   "execution_count": null,
   "metadata": {
    "pycharm": {}
   },
   "outputs": [],
   "source": [
    "sgt_ref = SGT[0]\n",
    "dsg_ref = DSG[-1]"
   ]
  },
  {
   "cell_type": "code",
   "execution_count": null,
   "metadata": {
    "pycharm": {}
   },
   "outputs": [],
   "source": [
    "cmaps = [plt.get_cmap(name) for name in ['Oranges', 'Greens', 'Blues', 'Reds']]\n",
    "# markers = ['o', '^', 'v', 's']\n",
    "markers = None\n",
    "dark_col = 0.9\n",
    "medium_col = 0.5\n",
    "light_col = 0.25\n",
    "dark_colors = [cmap(dark_col) for cmap in cmaps]\n",
    "medium_colors = [cmap(medium_col) for cmap in cmaps]\n",
    "light_colors = [cmap(light_col) for cmap in cmaps]"
   ]
  },
  {
   "cell_type": "markdown",
   "metadata": {
    "pycharm": {}
   },
   "source": [
    "### Total Cross Section\n",
    "\n",
    "In Melendez et al., we produced plots of residuals with statistical error bands for various EFT regulators and also ran model checking tests.\n",
    "The residual is defined as\n",
    "\\begin{align}\n",
    "    y_{\\mathrm{res}} \\equiv y_{\\mathrm{th}} - y_{\\mathrm{exp}}\n",
    "\\end{align}\n",
    "First let's define the values of energies to be used in the analysis and get the imported data\n"
   ]
  },
  {
   "cell_type": "code",
   "execution_count": null,
   "metadata": {
    "pycharm": {}
   },
   "outputs": [],
   "source": [
    "orders = np.array([0, 2, 3, 4, 5]) # Chiral EFT orders\n",
    "nn_excluded = [0]  # Ignore these orders in prediction\n",
    "Lambdab = 600\n",
    "sgt_ratio = Q_approx(t_lab, Lambdab, interaction='np')\n",
    "print(sgt_ratio.shape, sgt_ref.shape)"
   ]
  },
  {
   "cell_type": "code",
   "execution_count": null,
   "metadata": {
    "pycharm": {}
   },
   "outputs": [],
   "source": [
    "sgt_truncation = gm.TruncationPointwise(df=0, scale=0, excluded=nn_excluded)\n",
    "sgt_truncation.fit(SGT.T, ratio=sgt_ratio, ref=sgt_ref, orders=orders)\n",
    "\n",
    "for n, coeff in zip(orders[1:], sgt_truncation.coeffs_.T):\n",
    "    plt.plot(t_lab, coeff, label=r'$c_{n}$'.format(n=n));\n",
    "plt.legend();"
   ]
  },
  {
   "cell_type": "markdown",
   "metadata": {
    "pycharm": {}
   },
   "source": [
    "Let's start by reproducing the Fig. 7 from Melendez et al. We will again begin by fitting the model, and then calling  ``interval`` to find the the truncation error bands."
   ]
  },
  {
   "cell_type": "code",
   "execution_count": null,
   "metadata": {
    "pycharm": {}
   },
   "outputs": [],
   "source": [
    "fig, axes = plt.subplots(2, 2, figsize=(6, 5), sharex=True, sharey=True)\n",
    "for i, n in enumerate(orders[1:]):\n",
    "    # Compute truncation errors for all orders less than y_i, skipping i=0\n",
    "    sgt_truncation = gm.TruncationPointwise(df=df_test, scale=tau_test, excluded=nn_excluded)\n",
    "    sgt_truncation.fit(SGT[:i+2].T, ratio=sgt_ratio, ref=sgt_ref, orders=orders[:i+2])\n",
    "    sgt_intervals = sgt_lower, sgt_upper = sgt_truncation.interval([0.68, 0.95]) - SGT_nn_online[:, None]\n",
    "    \n",
    "    # Plot lines and bands\n",
    "    for j in range(i, 4):\n",
    "        ax = axes.ravel()[j]\n",
    "        ax.plot(t_lab, SGT[i+1] - SGT_nn_online, color=dark_colors[i], zorder=i-5)\n",
    "        ax.fill_between(t_lab, sgt_lower[1, ..., i], sgt_upper[1, ..., i], facecolor=light_colors[i], zorder=i-5)\n",
    "        ax.fill_between(t_lab, sgt_lower[0, ..., i], sgt_upper[0, ..., i], facecolor=medium_colors[i], zorder=i-5)\n",
    "        \n",
    "    # Format\n",
    "    ax = axes.ravel()[i]\n",
    "    ax.axhline(0, 0, 1, ls='--', c='k', lw=1)\n",
    "    ax.set_ylim(-13, 2)\n",
    "    ax.set_xlim(0, 350)\n",
    "    ax.set_yticks([-12, -9, -6, -3, 0])\n",
    "    ax.xaxis.set_minor_locator(mpl.ticker.FixedLocator(np.linspace(50, 350, 4)))\n",
    "    ax.yaxis.set_minor_locator(mpl.ticker.FixedLocator(np.arange(-10.5, 2, 1.5)))\n",
    "    ax.tick_params(which='both', direction='in')\n",
    "    ax.text(0.05, 0.05, 'N$^{}$LO'.format(i+1), transform=ax.transAxes)\n",
    "fig.tight_layout();"
   ]
  },
  {
   "cell_type": "markdown",
   "metadata": {
    "pycharm": {}
   },
   "source": [
    "Compare the above figure with Fig. 7 from Melendez et al. "
   ]
  },
  {
   "cell_type": "code",
   "execution_count": null,
   "metadata": {},
   "outputs": [],
   "source": [
    "Image('../images/SGT_residuals_R0p9.png', width=NARROW_IMG_WIDTH, format='png')"
   ]
  },
  {
   "cell_type": "markdown",
   "metadata": {
    "pycharm": {}
   },
   "source": [
    "### Differential Cross Section\n",
    "\n",
    "Now set up differential cross section data"
   ]
  },
  {
   "cell_type": "code",
   "execution_count": null,
   "metadata": {
    "pycharm": {}
   },
   "outputs": [],
   "source": [
    "dsg_energy = 96\n",
    "\n",
    "DSG_1d = np.squeeze(DSG[:, t_lab == dsg_energy])\n",
    "dsg_ratio = Q_approx(dsg_energy, Lambdab, interaction='np')\n",
    "dsg_ref = DSG_1d[-1]\n",
    "DSG_nn_online_1d = np.squeeze(DSG_nn_online[t_lab == dsg_energy])\n",
    "print(DSG_1d.shape, DSG_nn_online_1d.shape)"
   ]
  },
  {
   "cell_type": "markdown",
   "metadata": {
    "pycharm": {}
   },
   "source": [
    "Below we repeat the analysis for the differential cross section"
   ]
  },
  {
   "cell_type": "code",
   "execution_count": null,
   "metadata": {
    "pycharm": {}
   },
   "outputs": [],
   "source": [
    "fig, axes = plt.subplots(2, 2, figsize=(6, 5), sharex=True, sharey=True)\n",
    "for i, n in enumerate(orders[1:]):\n",
    "    # Compute truncation errors for all orders less than y_i, skipping i=0\n",
    "    dsg_truncation = gm.TruncationPointwise(df=df_test, scale=tau_test, excluded=nn_excluded)\n",
    "    dsg_truncation.fit(DSG_1d[:i+2].T, ratio=dsg_ratio, ref=dsg_ref, orders=orders[:i+2])\n",
    "    dsg_intervals = dsg_lower, dsg_upper = dsg_truncation.interval([0.68, 0.95]) - DSG_nn_online_1d[:, None]\n",
    "    \n",
    "    # Plot lines and bands\n",
    "    for j in range(i, 4):\n",
    "        ax = axes.ravel()[j]\n",
    "        ax.plot(degrees, DSG_1d[i+1] - DSG_nn_online_1d, color=dark_colors[i], zorder=i-5)\n",
    "        ax.fill_between(degrees, dsg_lower[1, ..., i], dsg_upper[1, ..., i], facecolor=light_colors[i], zorder=i-5)\n",
    "        ax.fill_between(degrees, dsg_lower[0, ..., i], dsg_upper[0, ..., i], facecolor=medium_colors[i], zorder=i-5)\n",
    "    \n",
    "    # Format\n",
    "    ax = axes.ravel()[i]\n",
    "    ax.set_ylim([-5, 2])\n",
    "    ax.set_xlim([1, 179])\n",
    "    ax.set_yticks([-4.5, -3.0, -1.5, 0.0, 1.5])\n",
    "    ax.set_xticks([60, 120])\n",
    "    ax.axhline(0, ls='--', c='k', lw=1)\n",
    "    ax.xaxis.set_minor_locator(mpl.ticker.FixedLocator(np.arange(0, 180, 20)))\n",
    "    ax.yaxis.set_minor_locator(mpl.ticker.FixedLocator(np.arange(-3.75, 2, 1.5)))\n",
    "    ax.text(0.05, 0.05, 'N$^{}$LO'.format(i+1), transform=ax.transAxes)\n",
    "    ax.tick_params(which='both', direction='in')\n",
    "axes[1, 0].set_xlabel(r'$\\theta$ (deg)')\n",
    "axes[1, 1].set_xlabel(r'$\\theta$ (deg)')\n",
    "fig.tight_layout();"
   ]
  },
  {
   "cell_type": "markdown",
   "metadata": {
    "pycharm": {}
   },
   "source": [
    "Compare the above figure with Fig. 8 from Melendez et al.:"
   ]
  },
  {
   "cell_type": "code",
   "execution_count": null,
   "metadata": {},
   "outputs": [],
   "source": [
    "Image('../images/DSG_residuals_R0p9.png', format='png', width=NARROW_IMG_WIDTH)"
   ]
  },
  {
   "cell_type": "markdown",
   "metadata": {
    "pycharm": {}
   },
   "source": [
    "### Model Checking\n",
    "\n",
    "Two model checking diagnostics were employed in Melendez et al., consistency plots and $\\Lambda_b$ posteriors.\n",
    "Consistency plots check whether a $100\\alpha\\%$ degree of belief interval contains true value of the truncation error approximately $100\\alpha\\%$ of the time.\n",
    "Validation data can be checked in this manner using the ``credible_diagnostic`` method, which computes the average number of points contained in a given credible interval.\n",
    "The data should lie close to the diagonal in the plot below.\n",
    "The 68% and 95% gray uncertainty bands allow for deviations from the diagonal due to the finite set of data."
   ]
  },
  {
   "cell_type": "code",
   "execution_count": null,
   "metadata": {
    "pycharm": {}
   },
   "outputs": [],
   "source": [
    "t_lab_consistency = np.arange(20, 341, 20)\n",
    "ratio_consistency = Q_approx(t_lab_consistency, Lambdab, interaction='np')\n",
    "SGT_consistency = SGT[:, np.isin(t_lab, t_lab_consistency)]\n",
    "sgt_ref_consistency = SGT_consistency[0]\n",
    "N = len(t_lab_consistency)\n",
    "band_dobs = np.linspace(0.001, 1, 100)\n",
    "dobs = np.arange(0.1, 1, 0.1)\n",
    "beta = False\n",
    "\n",
    "fig = plt.figure(figsize=(4,4))\n",
    "ax = fig.add_subplot(111)\n",
    "ax.set_xlim([0, 1])\n",
    "ax.set_ylim([0, 1])\n",
    "ax.plot([0, 1], [0, 1], c='k')\n",
    "ax.set_xlabel('DoB')\n",
    "ax.set_ylabel(r'Success Rate, $N={}$'.format(N))\n",
    "ax.set_title('Total Cross Section Consistency Plot')\n",
    "consistency_markers = ['s', 'D', 'o']\n",
    "\n",
    "for i in range(3):\n",
    "    sgt_cons = gm.TruncationPointwise(df=df_test, scale=tau_test, excluded=nn_excluded)\n",
    "    idx = i+2\n",
    "    sgt_cons.fit(SGT_consistency[:idx].T, ratio=ratio_consistency, ref=sgt_ref_consistency, orders=orders[:idx])\n",
    "    D_CI, bands = sgt_cons.credible_diagnostic(\n",
    "        data=SGT_consistency[idx], dobs=dobs, band_intervals=[0.68, 0.95, 0.99],\n",
    "        band_dobs=band_dobs, beta=beta)\n",
    "    ax.plot(dobs, D_CI[:, -1], c=medium_colors[i], marker=consistency_markers[i],\n",
    "            markeredgecolor='k', markeredgewidth=0.5, markersize=8, label='N$^{}$LO'.format(idx-1))\n",
    "    \n",
    "# Make gray error bands\n",
    "if not beta:\n",
    "    ax.fill_between(band_dobs, bands[0, 0], bands[0, 1], color='gray', alpha=0.25)\n",
    "    ax.fill_between(band_dobs, bands[1, 0], bands[1, 1], color='gray', alpha=0.25)\n",
    "else:\n",
    "    ax.fill_betweenx(band_dobs, bands[0, 0], bands[0, 1], color='gray', alpha=0.25)\n",
    "    ax.fill_betweenx(band_dobs, bands[1, 0], bands[1, 1], color='gray', alpha=0.25)\n",
    "ax.legend();"
   ]
  },
  {
   "cell_type": "markdown",
   "metadata": {
    "pycharm": {}
   },
   "source": [
    "Again, compare this with Fig. 12 of Melendez et al.:"
   ]
  },
  {
   "cell_type": "code",
   "execution_count": null,
   "metadata": {},
   "outputs": [],
   "source": [
    "Image('../images/sgt_consistency.png', format='png', width=NARROW_IMG_WIDTH)"
   ]
  },
  {
   "cell_type": "markdown",
   "metadata": {
    "pycharm": {}
   },
   "source": [
    "Each curve shows a slight discrepancy (only a few points) with Fig. 12, but that is expected since the priors are not identical between the figures. Now let's move on to pr($\\Lambda_b | c$). The $\\Lambda_b$ posteriors were computed with uninformative Set C prior, which corresponds exactly to $\\nu_0 = 0$ for the inverse chi squared prior.\n",
    "Thus, the figures generated below should correspond exactly with those in the paper.\n",
    "Below, are some helper functions, including one to call the ``log_likelihood`` method, multiply by a prior, normalize the posterior, and extract summary statistics for the ``Lambda_b`` parameter.\n",
    "Since the posteriors can be quite skewed, a highest probability density interval is calculated using the ``HPD_pdf`` function, rather than a simple symmetric credible interval."
   ]
  },
  {
   "cell_type": "code",
   "execution_count": null,
   "metadata": {
    "pycharm": {}
   },
   "outputs": [],
   "source": [
    "def Lb_logprior(Lambda_b):\n",
    "    \"\"\"Melendez et al., Eq. (31)\"\"\"\n",
    "    return np.where((300 <= Lambda_b) & (Lambda_b <= 1500), np.log(1. / Lambda_b), -np.inf)\n",
    "\n",
    "\n",
    "def compute_posterior_intervals(model, data, ratios, ref, orders, max_idx, logprior, Lb):\n",
    "    model.fit(data[:max_idx+1].T, ratio=ratios[0], ref=ref, orders=orders[:max_idx+1])\n",
    "    log_like = np.array([model.log_likelihood(ratio=ratio) for ratio in ratios])\n",
    "    log_like += logprior\n",
    "    posterior = np.exp(log_like - np.max(log_like))\n",
    "    posterior /= np.trapz(posterior, x=Lb)  # Normalize\n",
    "\n",
    "    bounds = np.zeros((2,2))\n",
    "    for i, p in enumerate([0.68, 0.95]):\n",
    "        bounds[i] = gm.hpd_pdf(pdf=posterior, alpha=p, x=Lb, disp=False)\n",
    "        \n",
    "    median = gm.median_pdf(pdf=posterior, x=Lb)\n",
    "    return posterior, bounds, median\n",
    "\n",
    "\n",
    "def draw_summary_statistics(bounds68, bounds95, median, height=0, ax=None):\n",
    "    if ax is None:\n",
    "        ax = plt.gca()\n",
    "    ax.plot(bounds68, [height, height], c='darkgrey', lw=6, solid_capstyle='round')\n",
    "    ax.plot(bounds95, [height, height], c='darkgrey', lw=2, solid_capstyle='round')\n",
    "    ax.plot([median], [height], c='white', marker='o', zorder=10, markersize=3)"
   ]
  },
  {
   "cell_type": "code",
   "execution_count": null,
   "metadata": {
    "pycharm": {}
   },
   "outputs": [],
   "source": [
    "t_lab_Lb = np.array([96, 143, 200, 300])\n",
    "degrees_Lb = np.array([60, 120])\n",
    "X_Lb = gm.cartesian(t_lab_Lb, degrees_Lb)\n",
    "Lb_colors = light_colors[2:]\n",
    "Lambda_b_array = np.arange(1, 1501, 1)\n",
    "\n",
    "# scale invariant: df = 0\n",
    "Lb_model = gm.TruncationPointwise(df=0, excluded=nn_excluded)\n",
    "\n",
    "ratios_sgt_Lb = [Q_approx(t_lab_Lb, Lb, interaction='np') for Lb in Lambda_b_array]\n",
    "ratios_dsg_Lb = [Q_approx(X_Lb[:, 0], Lb, interaction='np') for Lb in Lambda_b_array]\n",
    "logprior = Lb_logprior(Lambda_b_array)"
   ]
  },
  {
   "cell_type": "code",
   "execution_count": null,
   "metadata": {
    "pycharm": {}
   },
   "outputs": [],
   "source": [
    "# Mask unused SGT data, and compute results\n",
    "sgt_Lb = SGT[:, np.isin(t_lab, t_lab_Lb)]\n",
    "sgt_Lb_n3lo_result = compute_posterior_intervals(\n",
    "    Lb_model, sgt_Lb, ratios_sgt_Lb, ref=sgt_Lb[0], orders=orders, max_idx=3,\n",
    "    logprior=logprior, Lb=Lambda_b_array)\n",
    "sgt_Lb_n4lo_result = compute_posterior_intervals(\n",
    "    Lb_model, sgt_Lb, ratios_sgt_Lb, ref=sgt_Lb[0], orders=orders, max_idx=4,\n",
    "    logprior=logprior, Lb=Lambda_b_array)\n",
    "\n",
    "# Mask unused DSG data, and compute results\n",
    "dsg_Lb = np.reshape(DSG[:, np.isin(t_lab, t_lab_Lb)][..., np.isin(degrees, degrees_Lb)], (len(orders), -1))\n",
    "dsg_Lb_n3lo_result = compute_posterior_intervals(\n",
    "    Lb_model, dsg_Lb, ratios_dsg_Lb, ref=dsg_Lb[0], orders=orders, max_idx=3,\n",
    "    logprior=logprior, Lb=Lambda_b_array)\n",
    "dsg_Lb_n4lo_result = compute_posterior_intervals(\n",
    "    Lb_model, dsg_Lb, ratios_dsg_Lb, ref=dsg_Lb[0], orders=orders, max_idx=4,\n",
    "    logprior=logprior, Lb=Lambda_b_array)\n",
    "\n",
    "# Concatenate all spin observable data into one long vector, and compute results\n",
    "spins_Lb = np.concatenate([\n",
    "    np.reshape(spin[:, np.isin(t_lab, t_lab_Lb)][..., np.isin(degrees, degrees_Lb)], (len(orders), -1))\n",
    "    for spin in [AY, D, A, AXX, AYY]],\n",
    "    axis=1)\n",
    "ratios_spins_Lb = np.concatenate([ratios_dsg_Lb for i in [AY, D, A, AXX, AYY]], axis=1)\n",
    "spins_Lb_n3lo_result = compute_posterior_intervals(\n",
    "    Lb_model, spins_Lb, ratios_spins_Lb, ref=1, orders=orders, max_idx=3,\n",
    "    logprior=logprior, Lb=Lambda_b_array)\n",
    "spins_Lb_n4lo_result = compute_posterior_intervals(\n",
    "    Lb_model, spins_Lb, ratios_spins_Lb, ref=1, orders=orders, max_idx=4,\n",
    "    logprior=logprior, Lb=Lambda_b_array)\n",
    "\n",
    "# Gather the above results\n",
    "results = [\n",
    "    sgt_Lb_n3lo_result, sgt_Lb_n4lo_result,\n",
    "    dsg_Lb_n3lo_result, dsg_Lb_n4lo_result,\n",
    "    spins_Lb_n3lo_result, spins_Lb_n4lo_result\n",
    "]\n",
    "\n",
    "# Plot each posterior and its summary statistics\n",
    "fig, ax = plt.subplots(1, 1, figsize=(4, 4))\n",
    "for i, (posterior, bounds, median) in enumerate(results):\n",
    "    posterior = posterior / (1.2*np.max(posterior))  # Scale so they're all the same height\n",
    "    # Make the lines taper off\n",
    "    Lb_vals = Lambda_b_array[posterior > 1e-2]\n",
    "    posterior = posterior[posterior > 1e-2]\n",
    "    # Plot and fill posterior, and add summary statistics\n",
    "    ax.plot(Lb_vals, posterior-i, c='darkgrey')\n",
    "    ax.fill_between(Lb_vals, -i, posterior-i, facecolor=Lb_colors[i % 2])\n",
    "    draw_summary_statistics(*bounds, median, ax=ax, height=-i)\n",
    "\n",
    "# Plot formatting\n",
    "ax.set_yticks([-0, -2, -4])\n",
    "ax.set_yticks([-1.1, -3.1], minor=True)\n",
    "ax.set_yticklabels([r'$\\sigma$', r'$\\displaystyle\\frac{d\\sigma}{d\\Omega}$', r'$X_{pqik}$'])\n",
    "ax.tick_params(axis='both', which='both', direction='in')\n",
    "ax.tick_params(which='major', length=0)\n",
    "ax.tick_params(which='minor', length=7, right=True)\n",
    "ax.set_xlim(0, 1200)\n",
    "ax.set_xticks([0, 300, 600, 900, 1200])\n",
    "ax.set_xlabel(r'$\\Lambda_b$ (MeV)')\n",
    "ax.grid(axis='x')\n",
    "ax.set_axisbelow(True)"
   ]
  },
  {
   "cell_type": "markdown",
   "metadata": {
    "inputHidden": false,
    "outputHidden": false,
    "pycharm": {}
   },
   "source": [
    "Compare the above figure with Fig. 22 of Melendez et al.:"
   ]
  },
  {
   "cell_type": "code",
   "execution_count": null,
   "metadata": {},
   "outputs": [],
   "source": [
    "Image('../images/Lambdab_posteriors.png', format='png', width=NARROW_IMG_WIDTH)"
   ]
  },
  {
   "cell_type": "markdown",
   "metadata": {
    "pycharm": {}
   },
   "source": [
    "## Conclusion\n",
    "\n",
    "We have regenerated important figures from Furnstahl et al. and Melendez et al.\n",
    "This code is significantly more condensed, efficient, and reusable than the original.\n",
    "We believe that the ease with which results can be obtained with this package can greatly expand its domain of applicability."
   ]
  },
  {
   "cell_type": "code",
   "execution_count": null,
   "metadata": {
    "pycharm": {}
   },
   "outputs": [],
   "source": []
  }
 ],
 "metadata": {
  "anaconda-cloud": {},
  "kernel_info": {
   "name": "python3"
  },
  "kernelspec": {
   "display_name": "PyCharm (gsum)",
   "language": "python",
   "name": "pycharm-4bc2f66b"
  },
  "language_info": {
   "codemirror_mode": {
    "name": "ipython",
    "version": 3
   },
   "file_extension": ".py",
   "mimetype": "text/x-python",
   "name": "python",
   "nbconvert_exporter": "python",
   "pygments_lexer": "ipython3",
   "version": "3.6.8"
  }
 },
 "nbformat": 4,
 "nbformat_minor": 2
}
